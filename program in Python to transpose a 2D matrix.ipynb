{
 "cells": [
  {
   "cell_type": "code",
   "execution_count": 1,
   "metadata": {},
   "outputs": [],
   "source": [
    "import numpy as np\n",
    "import pandas as pd\n",
    "\n",
    "l_2d = [[0, 1, 2], [3, 4, 5]]"
   ]
  },
  {
   "cell_type": "code",
   "execution_count": 2,
   "metadata": {},
   "outputs": [
    {
     "name": "stdout",
     "output_type": "stream",
     "text": [
      "[[0 3]\n",
      " [1 4]\n",
      " [2 5]]\n",
      "<class 'numpy.ndarray'>\n",
      "[[0, 3], [1, 4], [2, 5]]\n",
      "<class 'list'>\n"
     ]
    }
   ],
   "source": [
    "arr_t = np.array(l_2d).T\n",
    "\n",
    "print(arr_t)\n",
    "print(type(arr_t))\n",
    "# [[0 3]\n",
    "#  [1 4]\n",
    "#  [2 5]]\n",
    "# <class 'numpy.ndarray'>\n",
    "\n",
    "l_2d_t = np.array(l_2d).T.tolist()\n",
    "\n",
    "print(l_2d_t)\n",
    "print(type(l_2d_t))\n",
    "# [[0, 3], [1, 4], [2, 5]]\n",
    "# <class 'list'>"
   ]
  },
  {
   "cell_type": "code",
   "execution_count": 3,
   "metadata": {},
   "outputs": [
    {
     "name": "stdout",
     "output_type": "stream",
     "text": [
      "   0  1\n",
      "0  0  3\n",
      "1  1  4\n",
      "2  2  5\n",
      "<class 'pandas.core.frame.DataFrame'>\n",
      "[[0, 3], [1, 4], [2, 5]]\n",
      "<class 'list'>\n"
     ]
    }
   ],
   "source": [
    "df_t = pd.DataFrame(l_2d).T\n",
    "\n",
    "print(df_t)\n",
    "print(type(df_t))\n",
    "#    0  1\n",
    "# 0  0  3\n",
    "# 1  1  4\n",
    "# 2  2  5\n",
    "# <class 'pandas.core.frame.DataFrame'>\n",
    "\n",
    "l_2d_t = pd.DataFrame(l_2d).T.values.tolist()\n",
    "\n",
    "print(l_2d_t)\n",
    "print(type(l_2d_t))\n",
    "# [[0, 3], [1, 4], [2, 5]]\n",
    "# <class 'list'>"
   ]
  },
  {
   "cell_type": "code",
   "execution_count": null,
   "metadata": {},
   "outputs": [],
   "source": []
  }
 ],
 "metadata": {
  "kernelspec": {
   "display_name": "Python 3",
   "language": "python",
   "name": "python3"
  },
  "language_info": {
   "codemirror_mode": {
    "name": "ipython",
    "version": 3
   },
   "file_extension": ".py",
   "mimetype": "text/x-python",
   "name": "python",
   "nbconvert_exporter": "python",
   "pygments_lexer": "ipython3",
   "version": "3.8.3"
  }
 },
 "nbformat": 4,
 "nbformat_minor": 4
}
